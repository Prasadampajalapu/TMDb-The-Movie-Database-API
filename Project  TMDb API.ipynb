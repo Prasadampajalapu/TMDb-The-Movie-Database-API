{
 "cells": [
  {
   "cell_type": "raw",
   "id": "675b8962",
   "metadata": {},
   "source": [
    "Project Details\n",
    "\n",
    "For this project, we are using the TMDb (The Movie Database) API.\n",
    "TMDb API enables you to find out the latest information about TV Shows, Movies and the biggest names in entertainment sector for a marvelous and fun TV/Movie watching experience.\n",
    "TMDb documentation link\n",
    "After joining TMDb, you can easily generate a new developer API key using this link\n",
    "Our Motivation for using TMDb API\n",
    "By collecting the data using TMDb API one can recommend TV Shows, Movies and all sorts of entertainment on the basis of user’s affinity to specific genres, actors, likes and dislikes.\n",
    "We can find details about upcoming TV Shows and Movies.\n",
    "We can find what is the most popular and/ or exclusive/new content at a given time.\n"
   ]
  },
  {
   "cell_type": "raw",
   "id": "85a2ba1f",
   "metadata": {},
   "source": [
    "TMDb 1.1\n",
    "\n",
    "Find the 'id' of the movie \"Andhadhun\" using TMDb API.\n",
    "Output Format:\n",
    "Print the id of the movie."
   ]
  },
  {
   "cell_type": "code",
   "execution_count": 1,
   "id": "798cff08",
   "metadata": {},
   "outputs": [],
   "source": [
    "#  3516731a50038108dec7b747e4792f4c"
   ]
  },
  {
   "cell_type": "code",
   "execution_count": 2,
   "id": "ff57cdeb",
   "metadata": {},
   "outputs": [
    {
     "name": "stdout",
     "output_type": "stream",
     "text": [
      "534780\n"
     ]
    }
   ],
   "source": [
    "import requests as req\n",
    "import json\n",
    "\n",
    "r=req.get('https://api.themoviedb.org/3/search/movie?api_key=3516731a50038108dec7b747e4792f4c&query=Andhadhun').json()\n",
    "print(r['results'][0]['id'])"
   ]
  },
  {
   "cell_type": "code",
   "execution_count": null,
   "id": "4bd410b4",
   "metadata": {},
   "outputs": [],
   "source": []
  },
  {
   "cell_type": "raw",
   "id": "d3d2e3a4",
   "metadata": {},
   "source": [
    "TMDb 1.2\n",
    "\n",
    "Fetch the company id company 'Marvel Studios' using TMDb. Print the id."
   ]
  },
  {
   "cell_type": "code",
   "execution_count": 3,
   "id": "ea99f0e2",
   "metadata": {},
   "outputs": [
    {
     "name": "stdout",
     "output_type": "stream",
     "text": [
      "420\n"
     ]
    }
   ],
   "source": [
    "import requests as req\n",
    "import json\n",
    "\n",
    "r=req.get('https://api.themoviedb.org/3/search/company?api_key=3516731a50038108dec7b747e4792f4c&query=Marvel%20Studios').json()\n",
    "print(r['results'][0]['id'])"
   ]
  },
  {
   "cell_type": "code",
   "execution_count": null,
   "id": "3726a883",
   "metadata": {},
   "outputs": [],
   "source": []
  },
  {
   "cell_type": "raw",
   "id": "816150d3",
   "metadata": {},
   "source": [
    "TMDb 1.3\n",
    "\n",
    "Find the vote count and vote average of the movie \"3 Idiots\" using the TMDb API"
   ]
  },
  {
   "cell_type": "code",
   "execution_count": 4,
   "id": "f49d5111",
   "metadata": {},
   "outputs": [
    {
     "name": "stdout",
     "output_type": "stream",
     "text": [
      "1730 8\n"
     ]
    }
   ],
   "source": [
    "import requests as req\n",
    "import json\n",
    "\n",
    "r=req.get('https://api.themoviedb.org/3/search/movie?api_key=3516731a50038108dec7b747e4792f4c&query=3%20Idiots').json()\n",
    "print(r['results'][0]['vote_count'],r['results'][0]['vote_average'])"
   ]
  },
  {
   "cell_type": "code",
   "execution_count": null,
   "id": "c6d0a669",
   "metadata": {},
   "outputs": [],
   "source": []
  },
  {
   "cell_type": "raw",
   "id": "7ce338a7",
   "metadata": {},
   "source": [
    "TMDb 1.4\n",
    "\n",
    "Fetch the names of top 5 similar movies to Leonardo DiCaprio's 'Inception' from the TMDb API.\n",
    "Output Format:\n",
    "Print the name of the movies in a new line.\n",
    "movie_name_1\n",
    "movie_name_2\n",
    "and so on"
   ]
  },
  {
   "cell_type": "code",
   "execution_count": 5,
   "id": "1bfca08d",
   "metadata": {},
   "outputs": [
    {
     "name": "stdout",
     "output_type": "stream",
     "text": [
      "Inception\n",
      "Forrest Gump\n",
      "American Beauty\n",
      "Citizen Kane\n",
      "Jarhead\n"
     ]
    }
   ],
   "source": [
    "import requests as req\n",
    "import json\n",
    "\n",
    "r=req.get('https://api.themoviedb.org/3/search/movie?api_key=3516731a50038108dec7b747e4792f4c&query=Inception').json()\n",
    "# print(r['results'][0]['id']) it gives id of inception movie\n",
    "#here we get 2 codes 27205 and 846190, we use 846190 here\n",
    "abc=str(r['results'][4]['id'])\n",
    "s=req.get('https://api.themoviedb.org/3/movie/'+abc+'/similar?api_key=3516731a50038108dec7b747e4792f4c').json()\n",
    "for i in s['results'][:5]:\n",
    "    print(i['title'])"
   ]
  },
  {
   "cell_type": "raw",
   "id": "a852a112",
   "metadata": {},
   "source": [
    "## TMDb 1.5\n",
    "\n",
    "Fetch the top rated english movies in the US region using the TMDb API. From the result, print the first 10 movies which have original language as english. Also print their genres.\n",
    "Note: Do not use the search/movies API for finding genres.\n",
    "Output Format:\n",
    "movie_name_1 - genre_1, genre_2 ....\n",
    "and so on.."
   ]
  },
  {
   "cell_type": "code",
   "execution_count": 6,
   "id": "4be23078",
   "metadata": {},
   "outputs": [
    {
     "name": "stdout",
     "output_type": "stream",
     "text": [
      "The Shawshank Redemption - Drama, Crime, \n",
      "The Godfather - Drama, Crime, \n",
      "Gabriel's Inferno Part II - Romance, \n",
      "Schindler's List - Drama, History, War, \n",
      "Gabriel's Inferno - Romance, \n",
      "Gabriel's Inferno Part III - Romance, Comedy, \n",
      "The Godfather: Part II - Drama, Crime, \n",
      "Spider-Man: No Way Home - Action, Adventure, Science Fiction, \n",
      "12 Angry Men - Drama, \n",
      "The Green Mile - Fantasy, Drama, Crime, \n"
     ]
    }
   ],
   "source": [
    "import requests as req\n",
    "import json\n",
    "\n",
    "r=req.get('https://api.themoviedb.org/3/movie/top_rated?api_key=3516731a50038108dec7b747e4792f4c&language=en-US').json()\n",
    "g=req.get('https://api.themoviedb.org/3/genre/movie/list?api_key=3516731a50038108dec7b747e4792f4c&language=en-US').json()\n",
    "\n",
    "i=0\n",
    "count=0\n",
    "while True:\n",
    "    i+=1\n",
    "    if count >=10:\n",
    "        break\n",
    "    if (r['results'][i][\"original_language\"])=='en':\n",
    "        print(r['results'][i]['title'],end=' - ')\n",
    "        for j in r['results'][i]['genre_ids']:\n",
    "            for k in g['genres']:\n",
    "                if k['id']==j:\n",
    "                    print(k['name'],end=', ')\n",
    "        count+=1\n",
    "        print()"
   ]
  },
  {
   "cell_type": "code",
   "execution_count": null,
   "id": "83e70d22",
   "metadata": {},
   "outputs": [],
   "source": []
  },
  {
   "cell_type": "raw",
   "id": "1c06204a",
   "metadata": {},
   "source": [
    "TMDb 2.1\n",
    "\n",
    "Find the name and birthplace of the present most popular person according to TMDb API.\n",
    "Output Format:\n",
    "id\n",
    "name - birthplace"
   ]
  },
  {
   "cell_type": "code",
   "execution_count": 7,
   "id": "8eca4491",
   "metadata": {},
   "outputs": [
    {
     "name": "stdout",
     "output_type": "stream",
     "text": [
      "67837\n",
      "Jacki Weaver - Sydney, New South Wales, Australia\n",
      "0.38445138931274414\n"
     ]
    }
   ],
   "source": [
    "import requests as req\n",
    "import json\n",
    "import time\n",
    "start =time.time()\n",
    "r=req.get('https://api.themoviedb.org/3/person/popular?api_key=3516731a50038108dec7b747e4792f4c').json()\n",
    "l=[]\n",
    "for i in range(len(r)):\n",
    "    l.append(r['results'][i]['popularity'])\n",
    "    \n",
    "\n",
    "for j in l:\n",
    "    if j==max(l):\n",
    "        print(r['results'][l.index(max(l))]['id'])#by using this value,get request next\n",
    "        print(r['results'][l.index(max(l))]['name'],end=' - ')\n",
    "a=str(r['results'][l.index(max(l))]['id'])\n",
    "c=req.get('https://api.themoviedb.org/3/person/'+a+'?api_key=3516731a50038108dec7b747e4792f4c').json() #we have use person key\n",
    "print(c['place_of_birth'])\n",
    "end =time.time()\n",
    "print(end-start)"
   ]
  },
  {
   "cell_type": "code",
   "execution_count": null,
   "id": "94c5ecf9",
   "metadata": {},
   "outputs": [],
   "source": []
  },
  {
   "cell_type": "raw",
   "id": "c73d8a31",
   "metadata": {},
   "source": [
    "TMDb 2.2\n",
    "\n",
    "Fetch the Instagram and Twitter handle of Indian Actress \"Alia Bhatt\" from the TMDb API.\n",
    "Output Format\n",
    "Print the Instagram and Twitter IDs space separated.\n",
    "instagram_id twitter_id"
   ]
  },
  {
   "cell_type": "code",
   "execution_count": 8,
   "id": "d78d5b88",
   "metadata": {},
   "outputs": [
    {
     "name": "stdout",
     "output_type": "stream",
     "text": [
      "aliaabhatt Aliaa08\n"
     ]
    }
   ],
   "source": [
    "import requests as req\n",
    "import json\n",
    "\n",
    "r=req.get('https://api.themoviedb.org/3/search/person?api_key=3516731a50038108dec7b747e4792f4c&query=Alia%20Bhatt').json()\n",
    "#print(r['results'][0]['id']) by using this value get request \n",
    "a=str(r['results'][0]['id'])\n",
    "i=req.get('https://api.themoviedb.org/3/person/'+a+'/external_ids?api_key=3516731a50038108dec7b747e4792f4c').json()\n",
    "print(i['instagram_id'],i[\"twitter_id\"])"
   ]
  },
  {
   "cell_type": "code",
   "execution_count": null,
   "id": "ad98141c",
   "metadata": {},
   "outputs": [],
   "source": []
  },
  {
   "cell_type": "raw",
   "id": "84eead25",
   "metadata": {},
   "source": [
    "TMDb 2.3\n",
    "\n",
    "Fetch the names of the character played by Tom Cruise in the movies:\n",
    "Top Gun\n",
    "Mission: Impossible - Fallout\n",
    "Minority Report\n",
    "Edge of Tomorrow\n",
    "Output Format:\n",
    "Print the names of the characters played by Tom Cruise line separated, in the respective order given in question."
   ]
  },
  {
   "cell_type": "code",
   "execution_count": 9,
   "id": "f30a3ad8",
   "metadata": {},
   "outputs": [
    {
     "name": "stdout",
     "output_type": "stream",
     "text": [
      "Lt. Pete 'Maverick' Mitchell\n",
      "Ethan Hunt\n",
      "Chief John Anderton\n",
      "Cage\n"
     ]
    }
   ],
   "source": [
    "import requests as req\n",
    "import json\n",
    "\n",
    "r=req.get('https://api.themoviedb.org/3/search/person?api_key=3516731a50038108dec7b747e4792f4c&query=Tom%20Cruise').json()\n",
    "#print(r['results'][0]['id']) it gives id of tom cruise,this value is used get request\n",
    "\n",
    "x=str(r['results'][0]['id'])\n",
    "k=req.get('https://api.themoviedb.org/3/person/'+x+'/movie_credits?api_key=3516731a50038108dec7b747e4792f4c').json()\n",
    "for i in range(len(k['cast'])):\n",
    "    if k['cast'][i]['title']=='Top Gun':\n",
    "        print(k['cast'][i]['character'])\n",
    "for i in range(len(k['cast'])):\n",
    "    if k['cast'][i]['title']=='Mission: Impossible - Fallout':\n",
    "        print(k['cast'][i]['character'])\n",
    "for i in range(len(k['cast'])):\n",
    "    if k['cast'][i]['title']=='Minority Report':\n",
    "        print(k['cast'][i]['character'])\n",
    "for i in range(len(k['cast'])):\n",
    "    if k['cast'][i]['title']=='Edge of Tomorrow':\n",
    "        print(k['cast'][i]['character'])"
   ]
  },
  {
   "cell_type": "code",
   "execution_count": null,
   "id": "8c02d719",
   "metadata": {},
   "outputs": [],
   "source": []
  },
  {
   "cell_type": "raw",
   "id": "6f89aa0a",
   "metadata": {},
   "source": [
    "TMDb 2.4\n",
    "\n",
    "Did James McAvoy play a role in the movie Deadpool 2. Print Yes or No."
   ]
  },
  {
   "cell_type": "code",
   "execution_count": 10,
   "id": "9b07556c",
   "metadata": {},
   "outputs": [
    {
     "name": "stdout",
     "output_type": "stream",
     "text": [
      "Yes\n"
     ]
    }
   ],
   "source": [
    "import requests as req\n",
    "import json\n",
    "flag=False\n",
    "r=req.get('https://api.themoviedb.org/3/search/person?api_key=3516731a50038108dec7b747e4792f4c&query=James%20McAvoy').json()\n",
    "for i in r['results']:\n",
    "    for j in i['known_for']:\n",
    "        if j['title']=='Deadpool 2':\n",
    "            flag=True\n",
    "if flag:\n",
    "    print('Yes')\n",
    "else:\n",
    "    print('No')\n",
    "            "
   ]
  },
  {
   "cell_type": "code",
   "execution_count": null,
   "id": "04041a17",
   "metadata": {},
   "outputs": [],
   "source": []
  },
  {
   "cell_type": "raw",
   "id": "b14a3f81",
   "metadata": {},
   "source": [
    "TMDb 2.5\n",
    "\n",
    "Using the result obtained in previous question, find out if James McAvoy was credited for his role in movie Deadpool 2. Print Yes or No."
   ]
  },
  {
   "cell_type": "code",
   "execution_count": 11,
   "id": "b99c30e9",
   "metadata": {},
   "outputs": [
    {
     "name": "stdout",
     "output_type": "stream",
     "text": [
      "No\n"
     ]
    }
   ],
   "source": [
    "import requests as req\n",
    "import json\n",
    "flag=False\n",
    "r=req.get('https://api.themoviedb.org/3/search/person?api_key=3516731a50038108dec7b747e4792f4c&query=James%20McAvoy').json()\n",
    "c=req.get('https://api.themoviedb.org/3/movie/383498/credits?api_key=3516731a50038108dec7b747e4792f4c').json()\n",
    "\n",
    "for i in c['cast']:\n",
    "    if i['name']=='James McAvoy':\n",
    "        if 'uncredited' in i['character']:\n",
    "            print('No')\n",
    "        else:\n",
    "            print('Yes')"
   ]
  },
  {
   "cell_type": "code",
   "execution_count": null,
   "id": "917fc1ea",
   "metadata": {},
   "outputs": [],
   "source": []
  },
  {
   "cell_type": "raw",
   "id": "77bd72be",
   "metadata": {},
   "source": [
    "TMDb 3.1\n",
    "\n",
    "Fetch the overview of the TV Show \"FRIENDS\" using TMDb API.\n",
    "Output Format:\n",
    "Print the tagline."
   ]
  },
  {
   "cell_type": "code",
   "execution_count": 12,
   "id": "017eaca5",
   "metadata": {},
   "outputs": [
    {
     "name": "stdout",
     "output_type": "stream",
     "text": [
      "Friends is an American television sitcom created by David Crane and Marta Kauffman, which aired on NBC from September 22, 1994, to May 6, 2004, lasting ten seasons. With an ensemble cast starring Jennifer Aniston, Courteney Cox, Lisa Kudrow, Matt LeBlanc, Matthew Perry and David Schwimmer, the show revolves around six friends in their 20s and 30s who live in Manhattan, New York City. The series was produced by Bright/Kauffman/Crane Productions, in association with Warner Bros. Television. The original executive producers were Kevin S. Bright, Kauffman, and Crane.\n"
     ]
    }
   ],
   "source": [
    "import requests as req\n",
    "import json\n",
    "\n",
    "r=req.get('https://api.themoviedb.org/3/search/tv?api_key=3516731a50038108dec7b747e4792f4c&query=FRIENDS').json()\n",
    "for i in r['results']:\n",
    "    if i['name']=='Friends':\n",
    "        print(i['overview'])"
   ]
  },
  {
   "cell_type": "code",
   "execution_count": null,
   "id": "b0a13362",
   "metadata": {},
   "outputs": [],
   "source": []
  },
  {
   "cell_type": "raw",
   "id": "3bf90bac",
   "metadata": {},
   "source": [
    "TMDb 3.2\n",
    "\n",
    "Fetch the name and air date of S06E05 of the TV Show 'The Big Bang Theory' from TMDb API.\n",
    "Output Format:\n",
    "episode_name - air_date"
   ]
  },
  {
   "cell_type": "code",
   "execution_count": 13,
   "id": "99c61bc1",
   "metadata": {},
   "outputs": [
    {
     "name": "stdout",
     "output_type": "stream",
     "text": [
      "The Holographic Excitation - 2012-10-25\n"
     ]
    }
   ],
   "source": [
    "#in question,S06E05 means season 06,episode 05\n",
    "\n",
    "import requests as req\n",
    "import json\n",
    "\n",
    "r=req.get('https://api.themoviedb.org/3/search/tv?api_key=3516731a50038108dec7b747e4792f4c&query=The%20Big%20Bang%20Theory').json()\n",
    "c=req.get('https://api.themoviedb.org/3/tv/1418/season/06/episode/05?api_key=3516731a50038108dec7b747e4792f4c').json()\n",
    "print(c['name']+' - '+c[\"air_date\"])"
   ]
  },
  {
   "cell_type": "code",
   "execution_count": null,
   "id": "676d0330",
   "metadata": {},
   "outputs": [],
   "source": []
  },
  {
   "cell_type": "raw",
   "id": "e0cddd17",
   "metadata": {},
   "source": [
    "TMDb 3.3\n",
    "\n",
    "Fetch the trending TV Shows from the TMDb API and print the taglines of the top 5 shows. If there is no tagline, print 'Empty' instead\n",
    "Output Format:\n",
    "Print the taglines in new line."
   ]
  },
  {
   "cell_type": "code",
   "execution_count": 14,
   "id": "db4a9cfe",
   "metadata": {},
   "outputs": [
    {
     "name": "stdout",
     "output_type": "stream",
     "text": [
      "This holiday season, the best gifts come with a bow.\n",
      "Destiny is a beast.\n",
      "The perfect robbery.\n",
      "Empty\n",
      "Empty\n"
     ]
    }
   ],
   "source": [
    "import requests as req\n",
    "import json\n",
    "h = {'Accept': 'application/json'}\n",
    "r=req.get('https://api.themoviedb.org/3/trending/tv/week?api_key=3516731a50038108dec7b747e4792f4c',headers=h).json()\n",
    "\n",
    "ids=[]\n",
    "for i in r['results'][:5]:\n",
    "    ids.append(i['id'])\n",
    "\n",
    "for id in ids:\n",
    "    r2=req.get('https://api.themoviedb.org/3/tv/'+str(id)+'week?api_key=3516731a50038108dec7b747e4792f4c',headers=h).json()\n",
    "    if r2['tagline']!='':\n",
    "        print(r2['tagline'])\n",
    "    else:\n",
    "        print('Empty')"
   ]
  },
  {
   "cell_type": "code",
   "execution_count": 15,
   "id": "160e48bb",
   "metadata": {},
   "outputs": [
    {
     "name": "stdout",
     "output_type": "stream",
     "text": [
      "This holiday season, the best gifts come with a bow.\n",
      "Destiny is a beast.\n",
      "The perfect robbery.\n",
      "Empty\n",
      "Empty\n"
     ]
    }
   ],
   "source": [
    "import requests \n",
    "api_key = \"3516731a50038108dec7b747e4792f4c\" \n",
    "api_link = \"https://api.themoviedb.org/3\" \n",
    "params = {'api_key':api_key} \n",
    "header = {'Accept': 'application/json'} \n",
    "response = requests.get(api_link + \"/trending/tv/week\", headers = header, params = params) \n",
    "data = response.json() \n",
    "results = data.get(\"results\") \n",
    "ids=[] \n",
    "for result in results[:5]: \n",
    "    ids.append(result.get(\"id\")) \n",
    "\n",
    "for id in ids: \n",
    "    response2 = requests.get(api_link + \"/tv/\" + str(id) , headers = header, params = params) \n",
    "    data2 = response2.json() \n",
    "    if (data2.get(\"tagline\")) != \"\": \n",
    "        print(data2.get(\"tagline\")) \n",
    "    else: \n",
    "        print('Empty')"
   ]
  },
  {
   "cell_type": "code",
   "execution_count": null,
   "id": "e6550c7c",
   "metadata": {},
   "outputs": [],
   "source": []
  },
  {
   "cell_type": "raw",
   "id": "7d8177d7",
   "metadata": {},
   "source": [
    "TMDb 3.4\n",
    "\n",
    "Print the names of all the TV shows to be aired today whose original language is english.\n",
    "Output Format:\n",
    "Print the name of each TV show in a new line."
   ]
  },
  {
   "cell_type": "code",
   "execution_count": 16,
   "id": "3bf9b000",
   "metadata": {},
   "outputs": [
    {
     "name": "stdout",
     "output_type": "stream",
     "text": [
      "The Wheel of Time\n",
      "Wheel of Fortune\n",
      "Pip and Posy\n",
      "People Puzzler\n",
      "Days of Our Lives\n",
      "Emmerdale\n",
      "PBS NewsHour\n",
      "The Ellen DeGeneres Show\n",
      "Rachael Ray\n",
      "The Price Is Right\n",
      "General Hospital\n",
      "Tug of Words\n",
      "The Bold and the Beautiful\n",
      "Around the World in 80 Days\n",
      "And Just Like That…\n",
      "Star Trek: Discovery\n",
      "Chain Reaction\n",
      "Young Justice\n",
      "The Young and the Restless\n",
      "Station Eleven\n",
      "Jeopardy!\n",
      "Passport to Freedom\n",
      "EastEnders\n",
      "Let's Make a Deal\n",
      "The Real Housewives of Miami\n",
      "The Challenge: All Stars\n",
      "This Old House\n",
      "Ask This Old House\n",
      "WWE NXT UK\n",
      "House Hunters\n",
      "Jamie Johnson\n",
      "WWE Main Event\n",
      "Dragons: The Nine Realms\n",
      "Sesame Street\n",
      "Flip or Flop\n",
      "Advent Calendar\n",
      "The Damage Report with John Iadarola\n",
      "Naked News\n",
      "The Game\n",
      "Christmas Cookie Challenge\n",
      "Paris in Love\n",
      "The Kids Tonight Show\n",
      "Ebola Fighters\n",
      "The Night Before the Night\n",
      "Realtimehistory\n",
      "Allegory: A Tapestry of Guru Nanak's Travels\n",
      "Will This Work? (2021)\n",
      "ល្បែងស្នេហ៍ទេពអប្សរ\n",
      "Firebite\n",
      "Impact Wrestling\n",
      "Ghosts\n",
      "One Night in…\n",
      "Not Going Out\n",
      "Buried In The Backyard\n",
      "gen:LOCK\n",
      "Maury\n",
      "I Literally Just Told You\n",
      "The Not-Too-Late Show with Elmo\n",
      "The Weakest Link\n",
      "The Conversation\n",
      "The Hunt for the Chicago Strangler\n",
      "The Wall\n",
      "Atomic Revolutionary Wrestling Presents: Extreme Takeover Thursday\n"
     ]
    }
   ],
   "source": [
    "import requests as req\n",
    "import json\n",
    "h= {'Accept': 'application/json'} \n",
    "r=req.get('https://api.themoviedb.org/3/tv/airing_today?api_key=3516731a50038108dec7b747e4792f4c&language=en',headers=h).json()\n",
    "page_no=r['total_pages']\n",
    "\n",
    "for i in range(1,page_no+1):\n",
    "    p={'page':str(i)}\n",
    "    r2=req.get('https://api.themoviedb.org/3/tv/airing_today?api_key=3516731a50038108dec7b747e4792f4c&language=en',params=p,headers=h).json()\n",
    "    for r in r2['results']:\n",
    "        if r['original_language']=='en':\n",
    "            print(r['name'])"
   ]
  },
  {
   "cell_type": "code",
   "execution_count": 17,
   "id": "8f9e9deb",
   "metadata": {},
   "outputs": [
    {
     "name": "stdout",
     "output_type": "stream",
     "text": [
      "The Wheel of Time\n",
      "Wheel of Fortune\n",
      "Pip and Posy\n",
      "People Puzzler\n",
      "Days of Our Lives\n",
      "Emmerdale\n",
      "PBS NewsHour\n",
      "The Ellen DeGeneres Show\n",
      "Rachael Ray\n",
      "The Price Is Right\n",
      "General Hospital\n",
      "Tug of Words\n",
      "The Bold and the Beautiful\n",
      "Around the World in 80 Days\n",
      "And Just Like That…\n",
      "Star Trek: Discovery\n",
      "Chain Reaction\n",
      "Young Justice\n",
      "The Young and the Restless\n",
      "Station Eleven\n",
      "Jeopardy!\n",
      "Passport to Freedom\n",
      "EastEnders\n",
      "Let's Make a Deal\n",
      "The Real Housewives of Miami\n",
      "The Challenge: All Stars\n",
      "This Old House\n",
      "Ask This Old House\n",
      "WWE NXT UK\n",
      "House Hunters\n",
      "Jamie Johnson\n",
      "WWE Main Event\n",
      "Dragons: The Nine Realms\n",
      "Sesame Street\n",
      "Flip or Flop\n",
      "Advent Calendar\n",
      "The Damage Report with John Iadarola\n",
      "Naked News\n",
      "The Game\n",
      "Christmas Cookie Challenge\n",
      "Paris in Love\n",
      "The Kids Tonight Show\n",
      "Ebola Fighters\n",
      "The Night Before the Night\n",
      "Realtimehistory\n",
      "Allegory: A Tapestry of Guru Nanak's Travels\n",
      "Will This Work? (2021)\n",
      "ល្បែងស្នេហ៍ទេពអប្សរ\n",
      "Firebite\n",
      "Impact Wrestling\n",
      "Ghosts\n",
      "One Night in…\n",
      "Not Going Out\n",
      "Buried In The Backyard\n",
      "gen:LOCK\n",
      "Maury\n",
      "I Literally Just Told You\n",
      "The Not-Too-Late Show with Elmo\n",
      "The Weakest Link\n",
      "The Conversation\n",
      "The Hunt for the Chicago Strangler\n",
      "The Wall\n",
      "Atomic Revolutionary Wrestling Presents: Extreme Takeover Thursday\n"
     ]
    }
   ],
   "source": [
    "import requests\n",
    "import json\n",
    "\n",
    "api_key = \"3516731a50038108dec7b747e4792f4c\" \n",
    "api_link = \"https://api.themoviedb.org/3\" \n",
    "params = {'language':\"en\" , 'api_key':api_key} \n",
    "header = {'Accept': 'application/json'} \n",
    "response = requests.get(api_link + \"/tv/airing_today/\", headers = header, params = params) \n",
    "data= response.json() \n",
    "page_number = data.get('total_pages')\n",
    "for i in range(1, page_number + 1): \n",
    "    params = {'language':\"en\" , 'api_key':api_key, 'page':i} \n",
    "    response = requests.get(api_link + \"/tv/airing_today/\", headers = header, params = params) \n",
    "    data= response.json() \n",
    "    results = data.get('results') \n",
    "    for result in results: \n",
    "        if result.get('original_language') == 'en': \n",
    "            print(result.get('name'))"
   ]
  },
  {
   "cell_type": "code",
   "execution_count": null,
   "id": "179106c9",
   "metadata": {},
   "outputs": [],
   "source": []
  },
  {
   "cell_type": "raw",
   "id": "d0f86f36",
   "metadata": {},
   "source": [
    "TMDb 3.5\n",
    "\n",
    "Count the number of males and females in the cast of \"Money Heist\" using the TMDb API.\n",
    "Output Format:\n",
    "Print the count of male and female space separated.\n",
    "male_count female_count"
   ]
  },
  {
   "cell_type": "code",
   "execution_count": 18,
   "id": "de2903a3",
   "metadata": {},
   "outputs": [
    {
     "name": "stdout",
     "output_type": "stream",
     "text": [
      "9 5\n"
     ]
    }
   ],
   "source": [
    "import requests as req\n",
    "import json\n",
    "h = {'Accept': 'application/json'}\n",
    "r=req.get('https://api.themoviedb.org/3/search/tv?api_key=3516731a50038108dec7b747e4792f4c&query=Money%20Heist',headers=h).json()\n",
    "for i in r['results']:\n",
    "    if i['name']=='Money Heist':\n",
    "        id=i['id']\n",
    "# https://api.themoviedb.org/3/tv/112836/credits?api_key=3516731a50038108dec7b747e4792f4c\n",
    "r2=req.get('https://api.themoviedb.org/3/tv/'+str(id)+'/credits?api_key=3516731a50038108dec7b747e4792f4c',headers=h).json()\n",
    "male_count=0\n",
    "female_count=0\n",
    "for c in r2['cast']:\n",
    "    if c['gender']==1:\n",
    "        female_count+=1\n",
    "    if c['gender']==2:\n",
    "        male_count+=1\n",
    "print(male_count,female_count)"
   ]
  },
  {
   "cell_type": "code",
   "execution_count": 19,
   "id": "90aff396",
   "metadata": {},
   "outputs": [
    {
     "name": "stdout",
     "output_type": "stream",
     "text": [
      "9 5\n"
     ]
    }
   ],
   "source": [
    "import requests \n",
    "api_key = \"3516731a50038108dec7b747e4792f4c\" \n",
    "api_link = \"https://api.themoviedb.org/3\" \n",
    "params = {'query':\"Money Heist\" , 'api_key':api_key} \n",
    "header = {'Accept': 'application/json'} \n",
    "response = requests.get(api_link + \"/search/tv/\", headers = header, params = params) \n",
    "data = response.json() \n",
    "results = data.get('results') \n",
    "for result in results: \n",
    "    if result.get('name') == 'Money Heist': \n",
    "        id = result.get('id') \n",
    "        \n",
    "params2 ={\"id\":id,'api_key':api_key} \n",
    "response2 =requests.get(api_link + \"/tv/\" + str(id) + \"/credits\", headers = header, params = params2) \n",
    "data2 = response2.json() \n",
    "cast = data2.get(\"cast\") \n",
    "count_male = 0 \n",
    "count_female = 0 \n",
    "for c in cast: \n",
    "    if c.get(\"gender\") == 1: \n",
    "        count_female += 1 \n",
    "    if c.get(\"gender\") == 2: \n",
    "        count_male += 1 \n",
    "print(count_male,count_female)"
   ]
  },
  {
   "cell_type": "code",
   "execution_count": null,
   "id": "183a322e",
   "metadata": {},
   "outputs": [],
   "source": []
  }
 ],
 "metadata": {
  "kernelspec": {
   "display_name": "Python 3",
   "language": "python",
   "name": "python3"
  },
  "language_info": {
   "codemirror_mode": {
    "name": "ipython",
    "version": 3
   },
   "file_extension": ".py",
   "mimetype": "text/x-python",
   "name": "python",
   "nbconvert_exporter": "python",
   "pygments_lexer": "ipython3",
   "version": "3.8.8"
  }
 },
 "nbformat": 4,
 "nbformat_minor": 5
}
